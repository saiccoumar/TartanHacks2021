{
 "cells": [
  {
   "cell_type": "code",
   "execution_count": 12,
   "metadata": {},
   "outputs": [],
   "source": [
    "import numpy as np\n",
    "import os\n",
    "import sys\n",
    "import time\n",
    "import pandas as pd \n",
    "from tqdm._tqdm_notebook import tqdm_notebook\n",
    "import pickle\n",
    "from keras.models import Sequential, load_model\n",
    "from keras.layers import Dense, Dropout\n",
    "from keras.layers import LSTM\n",
    "from keras.callbacks import ModelCheckpoint, EarlyStopping, ReduceLROnPlateau, CSVLogger\n",
    "from keras import optimizers\n",
    "# from keras.wrappers.scikit_learn import KerasClassifier\n",
    "from sklearn.preprocessing import MinMaxScaler\n",
    "from sklearn.model_selection import train_test_split\n",
    "from sklearn.metrics import mean_squared_error\n",
    "import logging"
   ]
  },
  {
   "cell_type": "code",
   "execution_count": 48,
   "metadata": {},
   "outputs": [
    {
     "name": "stdout",
     "output_type": "stream",
     "text": [
      "Path: /Users/saicoumar/Desktop/TartanHacksFinancialAdvice\n"
     ]
    }
   ],
   "source": [
    "params = {\n",
    "    \"batch_size\": 20,  # 20<16<10, 25 was a bust\n",
    "    \"epochs\": 10,\n",
    "    \"lr\": 0.00010000,\n",
    "    \"time_steps\": 60\n",
    "}\n",
    "\n",
    "iter_changes = \"dropout_layers_0.4_0.4\"\n",
    "\n",
    "path = os.path.abspath('')\n",
    "print(\"Path: \"+path)\n",
    "INPUT_PATH = path\n",
    "OUTPUT_PATH = path+\"/outputs/lstm_best_7-3-19_12AM/\"+iter_changes\n",
    "TIME_STEPS = params[\"time_steps\"]\n",
    "BATCH_SIZE = params[\"batch_size\"]\n",
    "stime = time.time()"
   ]
  },
  {
   "cell_type": "code",
   "execution_count": 14,
   "metadata": {},
   "outputs": [],
   "source": [
    "def print_time(text, stime):\n",
    "    seconds = (time.time()-stime)\n",
    "    print(text, seconds//60,\"minutes : \",np.round(seconds%60),\"seconds\")\n",
    "    \n",
    "def trim_dataset(mat,batch_size):\n",
    "    \"\"\"\n",
    "    trims dataset to a size that's divisible by BATCH_SIZE\n",
    "    \"\"\"\n",
    "    no_of_rows_drop = mat.shape[0]%batch_size\n",
    "    if no_of_rows_drop > 0:\n",
    "        return mat[:-no_of_rows_drop]\n",
    "    else:\n",
    "        return mat"
   ]
  },
  {
   "cell_type": "code",
   "execution_count": 15,
   "metadata": {},
   "outputs": [],
   "source": [
    "def build_timeseries(mat, y_col_index):\n",
    "    \"\"\"\n",
    "    Converts ndarray into timeseries format and supervised data format. Takes first TIME_STEPS\n",
    "    number of rows as input and sets the TIME_STEPS+1th data as corresponding output and so on.\n",
    "    :param mat: ndarray which holds the dataset\n",
    "    :param y_col_index: index of column which acts as output\n",
    "    :return: returns two ndarrays-- input and output in format suitable to feed\n",
    "    to LSTM.\n",
    "    \"\"\"\n",
    "    # total number of time-series samples would be len(mat) - TIME_STEPS\n",
    "    dim_0 = mat.shape[0] - TIME_STEPS\n",
    "    dim_1 = mat.shape[1]\n",
    "    x = np.zeros((dim_0, TIME_STEPS, dim_1))\n",
    "    y = np.zeros((dim_0,))\n",
    "    print(\"dim_0\",dim_0)\n",
    "    for i in tqdm_notebook(range(dim_0)):\n",
    "        x[i] = mat[i:TIME_STEPS+i]\n",
    "        y[i] = mat[TIME_STEPS+i, y_col_index]\n",
    "#         if i < 10:\n",
    "#           print(i,\"-->\", x[i,-1,:], y[i])\n",
    "    print(\"length of time-series i/o\",x.shape,y.shape)\n",
    "    return x, y"
   ]
  },
  {
   "cell_type": "code",
   "execution_count": 16,
   "metadata": {},
   "outputs": [
    {
     "name": "stdout",
     "output_type": "stream",
     "text": [
      "['.DS_Store', 'chooseData.py', 'LSTM.ipynb', 'archive', 'lstm_model', 'ge.us.txt', '.ipynb_checkpoints', '.git', 'main.py', 'outputs']\n",
      "Index(['Date', 'Open', 'High', 'Low', 'Close', 'Volume', 'OpenInt'], dtype='object')\n",
      "(14058, 7)\n",
      "value: \n",
      "2017\n",
      "         Date    Open    High     Low   Close   Volume  OpenInt\n",
      "0  1962-01-02  0.6277  0.6362  0.6201  0.6201  2575579        0\n",
      "1  1962-01-03  0.6201  0.6201  0.6122  0.6201  1764749        0\n",
      "2  1962-01-04  0.6201  0.6201  0.6037  0.6122  2194010        0\n",
      "3  1962-01-05  0.6122  0.6122  0.5798  0.5957  3255244        0\n",
      "4  1962-01-08  0.5957  0.5957  0.5716  0.5957  3696430        0\n",
      "Date        object\n",
      "Open       float64\n",
      "High       float64\n",
      "Low        float64\n",
      "Close      float64\n",
      "Volume       int64\n",
      "OpenInt      int64\n",
      "dtype: object\n",
      "Train--Test size 11246 2812\n"
     ]
    },
    {
     "name": "stderr",
     "output_type": "stream",
     "text": [
      "/Users/saicoumar/opt/anaconda3/lib/python3.8/site-packages/tqdm/std.py:668: FutureWarning: The Panel class is removed from pandas. Accessing it from the top-level namespace will also be removed in the next version\n",
      "  from pandas import Panel\n"
     ]
    }
   ],
   "source": [
    "stime = time.time()\n",
    "print(os.listdir(INPUT_PATH))\n",
    "df_ge = pd.read_csv(os.path.join(INPUT_PATH, \"ge.us.txt\"), engine='python')\n",
    "print(df_ge.columns)\n",
    "print(df_ge.shape)\n",
    "print(\"value: \")\n",
    "date = df_ge.iloc[-1]['Date'] +\"\"\n",
    "year = date[0:4]\n",
    "print(year)\n",
    "print(df_ge.head(5))\n",
    "tqdm_notebook.pandas('Processing...')\n",
    "# df_ge = process_dataframe(df_ge)\n",
    "print(df_ge.dtypes)\n",
    "train_cols = [\"Open\",\"High\",\"Low\",\"Close\",\"Volume\"]\n",
    "df_train, df_test = train_test_split(df_ge, train_size=0.8, test_size=0.2, shuffle=False)\n",
    "print(\"Train--Test size\", len(df_train), len(df_test))"
   ]
  },
  {
   "cell_type": "code",
   "execution_count": 17,
   "metadata": {},
   "outputs": [
    {
     "name": "stdout",
     "output_type": "stream",
     "text": [
      "Deleting unused dataframes of total size(KB) 3267\n"
     ]
    }
   ],
   "source": [
    "x = df_train.loc[:,train_cols].values\n",
    "min_max_scaler = MinMaxScaler()\n",
    "x_train = min_max_scaler.fit_transform(x)\n",
    "x_test = min_max_scaler.transform(df_test.loc[:,train_cols])\n",
    "\n",
    "print(\"Deleting unused dataframes of total size(KB)\",(sys.getsizeof(df_ge)+sys.getsizeof(df_train)+sys.getsizeof(df_test))//1024)\n",
    "\n",
    "del df_ge\n",
    "del df_test\n",
    "del df_train\n",
    "del x"
   ]
  },
  {
   "cell_type": "code",
   "execution_count": 18,
   "metadata": {},
   "outputs": [
    {
     "name": "stdout",
     "output_type": "stream",
     "text": [
      "Are any NaNs present in train/test matrices? False False\n",
      "dim_0 11186\n"
     ]
    },
    {
     "data": {
      "application/vnd.jupyter.widget-view+json": {
       "model_id": "0b8e8facd01a4eeeba8ec8614c70041d",
       "version_major": 2,
       "version_minor": 0
      },
      "text/plain": [
       "HBox(children=(FloatProgress(value=0.0, max=11186.0), HTML(value='')))"
      ]
     },
     "metadata": {},
     "output_type": "display_data"
    },
    {
     "name": "stdout",
     "output_type": "stream",
     "text": [
      "\n",
      "length of time-series i/o (11186, 60, 5) (11186,)\n",
      "Batch trimmed size (11180, 60, 5) (11180,)\n"
     ]
    }
   ],
   "source": [
    "print(\"Are any NaNs present in train/test matrices?\",np.isnan(x_train).any(), np.isnan(x_train).any())\n",
    "x_t, y_t = build_timeseries(x_train, 3)\n",
    "x_t = trim_dataset(x_t, BATCH_SIZE)\n",
    "y_t = trim_dataset(y_t, BATCH_SIZE)\n",
    "print(\"Batch trimmed size\",x_t.shape, y_t.shape)"
   ]
  },
  {
   "cell_type": "code",
   "execution_count": 22,
   "metadata": {},
   "outputs": [
    {
     "name": "stdout",
     "output_type": "stream",
     "text": [
      "Model not found\n"
     ]
    }
   ],
   "source": [
    "def create_model():\n",
    "    lstm_model = Sequential()\n",
    "    # (batch_size, timesteps, data_dim)\n",
    "    lstm_model.add(LSTM(100, batch_input_shape=(BATCH_SIZE, TIME_STEPS, x_t.shape[2]),\n",
    "                        dropout=0.0, recurrent_dropout=0.0, stateful=True, return_sequences=True,\n",
    "                        kernel_initializer='random_uniform'))\n",
    "    lstm_model.add(Dropout(0.4))\n",
    "    lstm_model.add(LSTM(60, dropout=0.0))\n",
    "    lstm_model.add(Dropout(0.4))\n",
    "    lstm_model.add(Dense(20,activation='relu'))\n",
    "    lstm_model.add(Dense(1,activation='sigmoid'))\n",
    "    optimizer = optimizers.RMSprop(lr=params[\"lr\"])\n",
    "    # optimizer = optimizers.SGD(lr=0.000001, decay=1e-6, momentum=0.9, nesterov=True)\n",
    "    lstm_model.compile(loss='mean_squared_error', optimizer=optimizer)\n",
    "    return lstm_model\n",
    "\n",
    "\n",
    "model = None\n",
    "try:\n",
    "    model = pickle.load(open(\"lstm_model\", 'rb'))\n",
    "    print(\"Loaded saved model...\")\n",
    "except FileNotFoundError:\n",
    "    print(\"Model not found\")"
   ]
  },
  {
   "cell_type": "code",
   "execution_count": 23,
   "metadata": {},
   "outputs": [
    {
     "name": "stdout",
     "output_type": "stream",
     "text": [
      "dim_0 2752\n"
     ]
    },
    {
     "data": {
      "application/vnd.jupyter.widget-view+json": {
       "model_id": "fb80a262b8524c3dae6fa8bd591cec34",
       "version_major": 2,
       "version_minor": 0
      },
      "text/plain": [
       "HBox(children=(FloatProgress(value=0.0, max=2752.0), HTML(value='')))"
      ]
     },
     "metadata": {},
     "output_type": "display_data"
    },
    {
     "name": "stdout",
     "output_type": "stream",
     "text": [
      "\n",
      "length of time-series i/o (2752, 60, 5) (2752,)\n",
      "Test size (1370, 60, 5) (1370,) (1370, 60, 5) (1370,)\n"
     ]
    }
   ],
   "source": [
    "\n",
    "x_temp, y_temp = build_timeseries(x_test, 3)\n",
    "x_val, x_test_t = np.split(trim_dataset(x_temp, BATCH_SIZE),2)\n",
    "y_val, y_test_t = np.split(trim_dataset(y_temp, BATCH_SIZE),2)\n",
    "\n",
    "print(\"Test size\", x_test_t.shape, y_test_t.shape, x_val.shape, y_val.shape)"
   ]
  },
  {
   "cell_type": "code",
   "execution_count": 24,
   "metadata": {},
   "outputs": [
    {
     "name": "stdout",
     "output_type": "stream",
     "text": [
      "Building model...\n",
      "WARNING:tensorflow:`period` argument is deprecated. Please use `save_freq` to specify the frequency in number of batches seen.\n",
      "Epoch 1/10\n",
      "559/559 - 17s - loss: 0.0154 - val_loss: 0.0273\n",
      "\n",
      "Epoch 00001: val_loss improved from inf to 0.02732, saving model to /Users/saicoumar/Desktop/TartanHacksFinancialAdvice/outputs/lstm_best_7-3-19_12AM/dropout_layers_0.4_0.4/best_model.h5\n",
      "Epoch 2/10\n",
      "559/559 - 14s - loss: 0.0040 - val_loss: 0.0052\n",
      "\n",
      "Epoch 00002: val_loss improved from 0.02732 to 0.00517, saving model to /Users/saicoumar/Desktop/TartanHacksFinancialAdvice/outputs/lstm_best_7-3-19_12AM/dropout_layers_0.4_0.4/best_model.h5\n",
      "Epoch 3/10\n",
      "559/559 - 17s - loss: 0.0019 - val_loss: 0.0049\n",
      "\n",
      "Epoch 00003: val_loss improved from 0.00517 to 0.00493, saving model to /Users/saicoumar/Desktop/TartanHacksFinancialAdvice/outputs/lstm_best_7-3-19_12AM/dropout_layers_0.4_0.4/best_model.h5\n",
      "Epoch 4/10\n",
      "559/559 - 17s - loss: 0.0018 - val_loss: 0.0047\n",
      "\n",
      "Epoch 00004: val_loss improved from 0.00493 to 0.00473, saving model to /Users/saicoumar/Desktop/TartanHacksFinancialAdvice/outputs/lstm_best_7-3-19_12AM/dropout_layers_0.4_0.4/best_model.h5\n",
      "Epoch 5/10\n",
      "559/559 - 16s - loss: 0.0017 - val_loss: 0.0046\n",
      "\n",
      "Epoch 00005: val_loss improved from 0.00473 to 0.00465, saving model to /Users/saicoumar/Desktop/TartanHacksFinancialAdvice/outputs/lstm_best_7-3-19_12AM/dropout_layers_0.4_0.4/best_model.h5\n",
      "Epoch 6/10\n",
      "559/559 - 19s - loss: 0.0016 - val_loss: 0.0035\n",
      "\n",
      "Epoch 00006: val_loss improved from 0.00465 to 0.00350, saving model to /Users/saicoumar/Desktop/TartanHacksFinancialAdvice/outputs/lstm_best_7-3-19_12AM/dropout_layers_0.4_0.4/best_model.h5\n",
      "Epoch 7/10\n",
      "559/559 - 20s - loss: 0.0014 - val_loss: 0.0032\n",
      "\n",
      "Epoch 00007: val_loss improved from 0.00350 to 0.00321, saving model to /Users/saicoumar/Desktop/TartanHacksFinancialAdvice/outputs/lstm_best_7-3-19_12AM/dropout_layers_0.4_0.4/best_model.h5\n",
      "Epoch 8/10\n",
      "559/559 - 17s - loss: 0.0013 - val_loss: 0.0026\n",
      "\n",
      "Epoch 00008: val_loss improved from 0.00321 to 0.00256, saving model to /Users/saicoumar/Desktop/TartanHacksFinancialAdvice/outputs/lstm_best_7-3-19_12AM/dropout_layers_0.4_0.4/best_model.h5\n",
      "Epoch 9/10\n",
      "559/559 - 15s - loss: 0.0012 - val_loss: 0.0027\n",
      "\n",
      "Epoch 00009: val_loss did not improve from 0.00256\n",
      "Epoch 10/10\n",
      "559/559 - 15s - loss: 0.0012 - val_loss: 0.0021\n",
      "\n",
      "Epoch 00010: val_loss improved from 0.00256 to 0.00207, saving model to /Users/saicoumar/Desktop/TartanHacksFinancialAdvice/outputs/lstm_best_7-3-19_12AM/dropout_layers_0.4_0.4/best_model.h5\n",
      "saving model...\n"
     ]
    }
   ],
   "source": [
    "is_update_model = True\n",
    "if model is None or is_update_model:\n",
    "    from keras import backend as K\n",
    "    print(\"Building model...\")\n",
    "#     print(\"checking if GPU available\", K.tensorflow_backend._get_available_gpus())\n",
    "    model = create_model()\n",
    "    \n",
    "    es = EarlyStopping(monitor='val_loss', mode='min', verbose=1,\n",
    "                       patience=40, min_delta=0.0001)\n",
    "    \n",
    "    mcp = ModelCheckpoint(os.path.join(OUTPUT_PATH,\n",
    "                          \"best_model.h5\"), monitor='val_loss', verbose=1,\n",
    "                          save_best_only=True, save_weights_only=False, mode='min', period=1)\n",
    "\n",
    "    # Not used here. But leaving it here as a reminder for future\n",
    "    r_lr_plat = ReduceLROnPlateau(monitor='val_loss', factor=0.1, patience=30, \n",
    "                                  verbose=0, mode='auto', min_delta=0.0001, cooldown=0, min_lr=0)\n",
    "    \n",
    "    csv_logger = CSVLogger(os.path.join(OUTPUT_PATH, 'training_log_' + time.ctime().replace(\" \",\"_\") + '.log'), append=True)\n",
    "    \n",
    "    history = model.fit(x_t, y_t, epochs=params[\"epochs\"], verbose=2, batch_size=BATCH_SIZE,\n",
    "                        shuffle=False, validation_data=(trim_dataset(x_val, BATCH_SIZE),\n",
    "                        trim_dataset(y_val, BATCH_SIZE)), callbacks=[es, r_lr_plat, mcp])\n",
    "    \n",
    "    print(\"saving model...\")\n",
    "#     pickle.dump(model, open(\"lstm_model\", \"wb\"))\n"
   ]
  },
  {
   "cell_type": "code",
   "execution_count": 41,
   "metadata": {},
   "outputs": [
    {
     "name": "stdout",
     "output_type": "stream",
     "text": [
      "Error is 0.0019608937529431644 (1360,) (1360,)\n",
      "[0.3910833  0.3907925  0.39023873 0.38970628 0.38937032 0.38890627\n",
      " 0.38856673 0.38846543 0.38843167 0.38840836 0.38836753 0.38911045\n",
      " 0.38854912 0.38798785 0.38713256]\n",
      "[0.32378063 0.32499919 0.32800358 0.32905407 0.32905407 0.33031465\n",
      " 0.32943225 0.33205846 0.32659593 0.32747834 0.31770881 0.31092267\n",
      " 0.31258244 0.32378063 0.32592362]\n",
      "[19.073404 19.059563 19.033207 19.007864 18.991873 18.969786 18.953625\n",
      " 18.948803 18.947195 18.946087 18.944143 18.979504 18.952785 18.926071\n",
      " 18.88536 ]\n",
      "[15.87  15.928 16.071 16.121 16.121 16.181 16.139 16.264 16.004 16.046\n",
      " 15.581 15.258 15.337 15.87  15.972]\n"
     ]
    }
   ],
   "source": [
    "\n",
    "# model.evaluate(x_test_t, y_test_t, batch_size=BATCH_SIZE\n",
    "y_pred = model.predict(trim_dataset(x_test_t, BATCH_SIZE), batch_size=BATCH_SIZE)\n",
    "y_pred = y_pred.flatten()\n",
    "y_test_t = trim_dataset(y_test_t, BATCH_SIZE)\n",
    "error = mean_squared_error(y_test_t, y_pred)\n",
    "print(\"Error is\", error, y_pred.shape, y_test_t.shape)\n",
    "print(y_pred[0:15])\n",
    "print(y_test_t[0:15])\n",
    "\n",
    "# convert the predicted value to range of real data\n",
    "y_pred_org = (y_pred * min_max_scaler.data_range_[3]) + min_max_scaler.data_min_[3]\n",
    "# min_max_scaler.inverse_transform(y_pred)\n",
    "y_test_t_org = (y_test_t * min_max_scaler.data_range_[3]) + min_max_scaler.data_min_[3]\n",
    "# min_max_scaler.inverse_transform(y_test_t)\n",
    "print(y_pred_org[0:15])\n",
    "print(y_test_t_org[0:15])\n"
   ]
  },
  {
   "cell_type": "code",
   "execution_count": 52,
   "metadata": {},
   "outputs": [
    {
     "name": "stdout",
     "output_type": "stream",
     "text": [
      "<tensorflow.python.keras.engine.sequential.Sequential object at 0x7fdf6373eeb0>\n",
      "Stuff\n",
      "[[[0.33259297 0.32832695 0.32936486 0.3297684  0.44697045]\n",
      "  [0.32923088 0.32951465 0.32921638 0.33138615 0.49479186]\n",
      "  [0.33403084 0.32951465 0.33167688 0.33012557 0.2582635 ]\n",
      "  ...\n",
      "  [0.32479038 0.32026313 0.32115611 0.31886435 0.50946889]\n",
      "  [0.31999041 0.3172418  0.31704114 0.31529269 0.5158963 ]\n",
      "  [0.32603795 0.32757683 0.32399842 0.32592362 0.92419152]]\n",
      "\n",
      " [[0.32923088 0.32951465 0.32921638 0.33138615 0.49479186]\n",
      "  [0.33403084 0.32951465 0.33167688 0.33012557 0.2582635 ]\n",
      "  [0.32853308 0.32849365 0.32883457 0.32712117 0.40643564]\n",
      "  ...\n",
      "  [0.31999041 0.3172418  0.31704114 0.31529269 0.5158963 ]\n",
      "  [0.32603795 0.32757683 0.32399842 0.32592362 0.92419152]\n",
      "  [0.32745468 0.32532646 0.32688314 0.32378063 0.42395503]]\n",
      "\n",
      " [[0.33403084 0.32951465 0.33167688 0.33012557 0.2582635 ]\n",
      "  [0.32853308 0.32849365 0.32883457 0.32712117 0.40643564]\n",
      "  [0.32975951 0.3263683  0.32902548 0.32873892 0.37919709]\n",
      "  ...\n",
      "  [0.32603795 0.32757683 0.32399842 0.32592362 0.92419152]\n",
      "  [0.32745468 0.32532646 0.32688314 0.32378063 0.42395503]\n",
      "  [0.32709521 0.32586822 0.32654376 0.32499919 0.66381276]]\n",
      "\n",
      " ...\n",
      "\n",
      " [[0.55011399 0.54523765 0.55180692 0.54742927 0.19185687]\n",
      "  [0.5505369  0.54482092 0.55159481 0.54826966 0.2535316 ]\n",
      "  [0.5505369  0.54565439 0.55191298 0.54971933 0.23242977]\n",
      "  ...\n",
      "  [0.51638735 0.50889834 0.50862088 0.50467446 0.2916628 ]\n",
      "  [0.50602618 0.50223058 0.50268173 0.50593504 0.31588283]\n",
      "  [0.50644909 0.50160547 0.50225751 0.50278358 0.37014399]]\n",
      "\n",
      " [[0.5505369  0.54482092 0.55159481 0.54826966 0.2535316 ]\n",
      "  [0.5505369  0.54565439 0.55191298 0.54971933 0.23242977]\n",
      "  [0.55241882 0.5479256  0.55409773 0.55074881 0.22651057]\n",
      "  ...\n",
      "  [0.50602618 0.50223058 0.50268173 0.50593504 0.31588283]\n",
      "  [0.50644909 0.50160547 0.50225751 0.50278358 0.37014399]\n",
      "  [0.49989406 0.49347914 0.48359164 0.48261423 1.28211424]]\n",
      "\n",
      " [[0.5505369  0.54565439 0.55191298 0.54971933 0.23242977]\n",
      "  [0.55241882 0.5479256  0.55409773 0.55074881 0.22651057]\n",
      "  [0.55599237 0.54832149 0.54907067 0.5455594  0.50677605]\n",
      "  ...\n",
      "  [0.50644909 0.50160547 0.50225751 0.50278358 0.37014399]\n",
      "  [0.49989406 0.49347914 0.48359164 0.48261423 1.28211424]\n",
      "  [0.49143597 0.48410259 0.48507642 0.48114355 0.73931851]]]\n",
      "20\n",
      "Error is 0.0019619079005433054 (1360,) (1360,)\n",
      "[0.39130968 0.3910566  0.39071155 0.3902648  0.38995987 0.38947988\n",
      " 0.38920644 0.38906324 0.3890028  0.3889423  0.38900033 0.3897142\n",
      " 0.3890925  0.38853726 0.38761243]\n",
      "[0.32378063 0.32499919 0.32800358 0.32905407 0.32905407 0.33031465\n",
      " 0.32943225 0.33205846 0.32659593 0.32747834 0.31770881 0.31092267\n",
      " 0.31258244 0.32378063 0.32592362]\n",
      "unga bunga\n",
      "47.59698\n",
      "0.45902\n",
      "[19.08418  19.072134 19.05571  19.034447 19.019934 18.997087 18.984072\n",
      " 18.977257 18.974379 18.9715   18.974262 19.00824  18.97865  18.95222\n",
      " 18.908203]\n",
      "[15.87  15.928 16.071 16.121 16.121 16.181 16.139 16.264 16.004 16.046\n",
      " 15.581 15.258 15.337 15.87  15.972]\n",
      "program completed  2.0 minutes :  38.0 seconds\n"
     ]
    },
    {
     "data": {
      "image/png": "[encoded data removed]",
      "text/plain": [
       "<Figure size 432x288 with 1 Axes>"
      ]
     },
     "metadata": {
      "needs_background": "light"
     },
     "output_type": "display_data"
    },
    {
     "data": {
      "image/png": "[encoded data removed]",
      "text/plain": [
       "<Figure size 432x288 with 1 Axes>"
      ]
     },
     "metadata": {
      "needs_background": "light"
     },
     "output_type": "display_data"
    }
   ],
   "source": [
    "# Visualize the training data\n",
    "from matplotlib import pyplot as plt\n",
    "plt.figure()\n",
    "plt.plot(history.history['loss'])\n",
    "plt.plot(history.history['val_loss'])\n",
    "plt.title('Model loss')\n",
    "plt.ylabel('Loss')\n",
    "plt.xlabel('Epoch')\n",
    "plt.legend(['Train', 'Test'], loc='upper left')\n",
    "#plt.show()\n",
    "plt.savefig(os.path.join(OUTPUT_PATH, 'train_vis_BS_'+str(BATCH_SIZE)+\"_\"+time.ctime()+'.png'))\n",
    "\n",
    "# load the saved best model from above\n",
    "saved_model = load_model(os.path.join(OUTPUT_PATH, 'best_model.h5')) # , \"lstm_best_7-3-19_12AM\",\n",
    "print(saved_model)\n",
    "print(\"Stuff\")\n",
    "print(trim_dataset(x_test_t, BATCH_SIZE))\n",
    "print(BATCH_SIZE)\n",
    "y_pred = saved_model.predict(trim_dataset(x_test_t, BATCH_SIZE), batch_size=BATCH_SIZE)\n",
    "y_pred = y_pred.flatten()\n",
    "\n",
    "y_test_t = trim_dataset(y_test_t, BATCH_SIZE)\n",
    "error = mean_squared_error(y_test_t, y_pred)\n",
    "print(\"Error is\", error, y_pred.shape, y_test_t.shape)\n",
    "print(y_pred[0:15])\n",
    "print(y_test_t[0:15])\n",
    "print(\"unga bunga\")\n",
    "print(min_max_scaler.data_range_[3])\n",
    "print(min_max_scaler.data_min_[3])\n",
    "y_pred_org = (y_pred * min_max_scaler.data_range_[3]) + min_max_scaler.data_min_[3] # min_max_scaler.inverse_transform(y_pred)\n",
    "y_test_t_org = (y_test_t * min_max_scaler.data_range_[3]) + min_max_scaler.data_min_[3] # min_max_scaler.inverse_transform(y_test_t)\n",
    "print(y_pred_org[0:15])\n",
    "print(y_test_t_org[0:15])\n",
    "\n",
    "# Visualize the prediction\n",
    "from matplotlib import pyplot as plt\n",
    "plt.figure()\n",
    "plt.plot(y_pred_org[0:123])\n",
    "plt.plot(y_test_t_org[0:123])\n",
    "plt.title('Prediction vs Real Stock Price')\n",
    "plt.ylabel('Price')\n",
    "plt.xlabel('Days')\n",
    "plt.legend(['Prediction', 'Real'], loc='upper left')\n",
    "#plt.show()\n",
    "plt.savefig(os.path.join(OUTPUT_PATH, 'pred_vs_real_BS'+str(BATCH_SIZE)+\"_\"+time.ctime()+'.png'))\n",
    "print_time(\"program completed \", stime)\n"
   ]
  }
 ],
 "metadata": {
  "kernelspec": {
   "display_name": "Python 3",
   "language": "python",
   "name": "python3"
  },
  "language_info": {
   "codemirror_mode": {
    "name": "ipython",
    "version": 3
   },
   "file_extension": ".py",
   "mimetype": "text/x-python",
   "name": "python",
   "nbconvert_exporter": "python",
   "pygments_lexer": "ipython3",
   "version": "3.8.3"
  }
 },
 "nbformat": 4,
 "nbformat_minor": 4
}
